{
 "cells": [
  {
   "cell_type": "code",
   "execution_count": 1,
   "metadata": {},
   "outputs": [],
   "source": [
    "'''need to set your environment variables to run pyspark in the Jupyter Notebook (as opposed to the shell). \n",
    "This can be achieved easily by adding two environment variables:\n",
    "set PYSPARK_DRIVER_PYTHON=jupyter\n",
    "set PYSPARK_DRIVER_PYTHON_OPTS=notebook\n",
    "Then navigate to the location where you want to store the new notebook and run pyspark again in your shell, \n",
    "but add a packages flag and indicate you want to use the GraphFrames package. \n",
    "Here, the newest version is used, but any older version can be used by changing the last part of the argument:\n",
    "pyspark --packages graphframes:graphframes:0.5.0-spark2.1-s_2.1\n",
    "'''\n",
    "from pyspark.sql import SparkSession\n",
    "spark = SparkSession.builder.appName('Ops').getOrCreate()\n"
   ]
  },
  {
   "cell_type": "code",
   "execution_count": 2,
   "metadata": {},
   "outputs": [],
   "source": [
    "from graphframes import *"
   ]
  },
  {
   "cell_type": "code",
   "execution_count": 3,
   "metadata": {},
   "outputs": [],
   "source": [
    "from graphframes import GraphFrame"
   ]
  },
  {
   "cell_type": "code",
   "execution_count": 4,
   "metadata": {},
   "outputs": [],
   "source": [
    "bikeStations = spark.read.option(\"header\",\"True\").csv(r\"C:\\Users\\pohch\\Desktop\\Spark\\spark-2.4.4-bin-hadoop2.7\\mnt\\defg\\bike-data\\201508_station_data.csv\")"
   ]
  },
  {
   "cell_type": "code",
   "execution_count": 5,
   "metadata": {},
   "outputs": [],
   "source": [
    "tripData = spark.read.option(\"header\",\"True\").csv(r\"C:\\Users\\pohch\\Desktop\\Spark\\spark-2.4.4-bin-hadoop2.7\\mnt\\defg\\bike-data\\201508_trip_data.csv\")"
   ]
  },
  {
   "cell_type": "code",
   "execution_count": 6,
   "metadata": {},
   "outputs": [],
   "source": [
    "stationVertices = bikeStations.withColumnRenamed(\"name\", \"id\").distinct()\n",
    "tripEdges = tripData.withColumnRenamed(\"Start Station\", \"src\").withColumnRenamed(\"End Station\", \"dst\")"
   ]
  },
  {
   "cell_type": "code",
   "execution_count": 7,
   "metadata": {},
   "outputs": [
    {
     "data": {
      "text/plain": [
       "GraphFrame(v:[id: string, station_id: string ... 5 more fields], e:[src: string, dst: string ... 9 more fields])"
      ]
     },
     "execution_count": 7,
     "metadata": {},
     "output_type": "execute_result"
    }
   ],
   "source": [
    "stationGraph = GraphFrame(stationVertices, tripEdges)\n",
    "stationGraph.cache()"
   ]
  },
  {
   "cell_type": "code",
   "execution_count": 8,
   "metadata": {},
   "outputs": [
    {
     "name": "stdout",
     "output_type": "stream",
     "text": [
      "Total Number of Stations:70\n",
      "Total Number of Trips in Graph:354152\n",
      "Total Number of Trips in Orginal Data:354152\n"
     ]
    }
   ],
   "source": [
    "print (\"Total Number of Stations:\"+str(stationGraph.vertices.count()))\n",
    "print (\"Total Number of Trips in Graph:\"+str(stationGraph.edges.count()))\n",
    "print (\"Total Number of Trips in Orginal Data:\"+str(tripData.count()))\n"
   ]
  },
  {
   "cell_type": "code",
   "execution_count": 9,
   "metadata": {},
   "outputs": [
    {
     "data": {
      "text/plain": [
       "DataFrame[summary: string, count: string, station_id: string, id: string, lat: string, long: string, dockcount: string, landmark: string, installation: string]"
      ]
     },
     "execution_count": 9,
     "metadata": {},
     "output_type": "execute_result"
    }
   ],
   "source": [
    "stationGraph.triangleCount().describe()"
   ]
  },
  {
   "cell_type": "code",
   "execution_count": 10,
   "metadata": {},
   "outputs": [
    {
     "name": "stdout",
     "output_type": "stream",
     "text": [
      "+--------------------+--------------------+-----+\n",
      "|                 src|                 dst|count|\n",
      "+--------------------+--------------------+-----+\n",
      "|San Francisco Cal...|     Townsend at 7th| 3748|\n",
      "|Harry Bridges Pla...|Embarcadero at Sa...| 3145|\n",
      "|     2nd at Townsend|Harry Bridges Pla...| 2973|\n",
      "|     Townsend at 7th|San Francisco Cal...| 2734|\n",
      "|Harry Bridges Pla...|     2nd at Townsend| 2640|\n",
      "|Embarcadero at Fo...|San Francisco Cal...| 2439|\n",
      "|   Steuart at Market|     2nd at Townsend| 2356|\n",
      "|Embarcadero at Sa...|   Steuart at Market| 2330|\n",
      "|     Townsend at 7th|San Francisco Cal...| 2192|\n",
      "|Temporary Transba...|San Francisco Cal...| 2184|\n",
      "+--------------------+--------------------+-----+\n",
      "only showing top 10 rows\n",
      "\n"
     ]
    }
   ],
   "source": [
    "from pyspark.sql.functions import desc\n",
    "stationGraph.edges.groupBy(\"src\",\"dst\").count().orderBy(desc(\"count\")).show(10)"
   ]
  },
  {
   "cell_type": "code",
   "execution_count": 11,
   "metadata": {},
   "outputs": [
    {
     "name": "stdout",
     "output_type": "stream",
     "text": [
      "+--------------------+--------------------+-----+\n",
      "|                 src|                 dst|count|\n",
      "+--------------------+--------------------+-----+\n",
      "|San Francisco Cal...|     Townsend at 7th| 3748|\n",
      "|     Townsend at 7th|San Francisco Cal...| 2734|\n",
      "|     Townsend at 7th|San Francisco Cal...| 2192|\n",
      "|     Townsend at 7th|Civic Center BART...| 1844|\n",
      "|Civic Center BART...|     Townsend at 7th| 1765|\n",
      "|San Francisco Cal...|     Townsend at 7th| 1198|\n",
      "|Temporary Transba...|     Townsend at 7th|  834|\n",
      "|     Townsend at 7th|Harry Bridges Pla...|  827|\n",
      "|   Steuart at Market|     Townsend at 7th|  746|\n",
      "|     Townsend at 7th|Temporary Transba...|  740|\n",
      "+--------------------+--------------------+-----+\n",
      "only showing top 10 rows\n",
      "\n"
     ]
    }
   ],
   "source": [
    "stationGraph.edges.where(\"src='Townsend at 7th' OR dst = 'Townsend at 7th'\")\\\n",
    ".groupBy(\"src\", \"dst\")\\\n",
    ".count()\\\n",
    ".orderBy(desc(\"count\"))\\\n",
    ".show(10)"
   ]
  },
  {
   "cell_type": "code",
   "execution_count": 12,
   "metadata": {},
   "outputs": [
    {
     "data": {
      "text/plain": [
       "28999"
      ]
     },
     "execution_count": 12,
     "metadata": {},
     "output_type": "execute_result"
    }
   ],
   "source": [
    "stationGraph.edges.where(\"src='Townsend at 7th' OR dst = 'Townsend at 7th'\")\\\n",
    ".count()"
   ]
  },
  {
   "cell_type": "code",
   "execution_count": 13,
   "metadata": {},
   "outputs": [],
   "source": [
    "Edges = stationGraph.edges.toPandas()"
   ]
  },
  {
   "cell_type": "code",
   "execution_count": 14,
   "metadata": {},
   "outputs": [
    {
     "data": {
      "text/html": [
       "<div>\n",
       "<style scoped>\n",
       "    .dataframe tbody tr th:only-of-type {\n",
       "        vertical-align: middle;\n",
       "    }\n",
       "\n",
       "    .dataframe tbody tr th {\n",
       "        vertical-align: top;\n",
       "    }\n",
       "\n",
       "    .dataframe thead th {\n",
       "        text-align: right;\n",
       "    }\n",
       "</style>\n",
       "<table border=\"1\" class=\"dataframe\">\n",
       "  <thead>\n",
       "    <tr style=\"text-align: right;\">\n",
       "      <th></th>\n",
       "      <th>Trip ID</th>\n",
       "      <th>Duration</th>\n",
       "      <th>Start Date</th>\n",
       "      <th>src</th>\n",
       "      <th>Start Terminal</th>\n",
       "      <th>End Date</th>\n",
       "      <th>dst</th>\n",
       "      <th>End Terminal</th>\n",
       "      <th>Bike #</th>\n",
       "      <th>Subscriber Type</th>\n",
       "      <th>Zip Code</th>\n",
       "    </tr>\n",
       "  </thead>\n",
       "  <tbody>\n",
       "    <tr>\n",
       "      <th>0</th>\n",
       "      <td>913460</td>\n",
       "      <td>765</td>\n",
       "      <td>8/31/2015 23:26</td>\n",
       "      <td>Harry Bridges Plaza (Ferry Building)</td>\n",
       "      <td>50</td>\n",
       "      <td>8/31/2015 23:39</td>\n",
       "      <td>San Francisco Caltrain (Townsend at 4th)</td>\n",
       "      <td>70</td>\n",
       "      <td>288</td>\n",
       "      <td>Subscriber</td>\n",
       "      <td>2139</td>\n",
       "    </tr>\n",
       "    <tr>\n",
       "      <th>1</th>\n",
       "      <td>913459</td>\n",
       "      <td>1036</td>\n",
       "      <td>8/31/2015 23:11</td>\n",
       "      <td>San Antonio Shopping Center</td>\n",
       "      <td>31</td>\n",
       "      <td>8/31/2015 23:28</td>\n",
       "      <td>Mountain View City Hall</td>\n",
       "      <td>27</td>\n",
       "      <td>35</td>\n",
       "      <td>Subscriber</td>\n",
       "      <td>95032</td>\n",
       "    </tr>\n",
       "    <tr>\n",
       "      <th>2</th>\n",
       "      <td>913455</td>\n",
       "      <td>307</td>\n",
       "      <td>8/31/2015 23:13</td>\n",
       "      <td>Post at Kearny</td>\n",
       "      <td>47</td>\n",
       "      <td>8/31/2015 23:18</td>\n",
       "      <td>2nd at South Park</td>\n",
       "      <td>64</td>\n",
       "      <td>468</td>\n",
       "      <td>Subscriber</td>\n",
       "      <td>94107</td>\n",
       "    </tr>\n",
       "    <tr>\n",
       "      <th>3</th>\n",
       "      <td>913454</td>\n",
       "      <td>409</td>\n",
       "      <td>8/31/2015 23:10</td>\n",
       "      <td>San Jose City Hall</td>\n",
       "      <td>10</td>\n",
       "      <td>8/31/2015 23:17</td>\n",
       "      <td>San Salvador at 1st</td>\n",
       "      <td>8</td>\n",
       "      <td>68</td>\n",
       "      <td>Subscriber</td>\n",
       "      <td>95113</td>\n",
       "    </tr>\n",
       "    <tr>\n",
       "      <th>4</th>\n",
       "      <td>913453</td>\n",
       "      <td>789</td>\n",
       "      <td>8/31/2015 23:09</td>\n",
       "      <td>Embarcadero at Folsom</td>\n",
       "      <td>51</td>\n",
       "      <td>8/31/2015 23:22</td>\n",
       "      <td>Embarcadero at Sansome</td>\n",
       "      <td>60</td>\n",
       "      <td>487</td>\n",
       "      <td>Customer</td>\n",
       "      <td>9069</td>\n",
       "    </tr>\n",
       "  </tbody>\n",
       "</table>\n",
       "</div>"
      ],
      "text/plain": [
       "  Trip ID Duration       Start Date                                   src  \\\n",
       "0  913460      765  8/31/2015 23:26  Harry Bridges Plaza (Ferry Building)   \n",
       "1  913459     1036  8/31/2015 23:11           San Antonio Shopping Center   \n",
       "2  913455      307  8/31/2015 23:13                        Post at Kearny   \n",
       "3  913454      409  8/31/2015 23:10                    San Jose City Hall   \n",
       "4  913453      789  8/31/2015 23:09                 Embarcadero at Folsom   \n",
       "\n",
       "  Start Terminal         End Date                                       dst  \\\n",
       "0             50  8/31/2015 23:39  San Francisco Caltrain (Townsend at 4th)   \n",
       "1             31  8/31/2015 23:28                   Mountain View City Hall   \n",
       "2             47  8/31/2015 23:18                         2nd at South Park   \n",
       "3             10  8/31/2015 23:17                       San Salvador at 1st   \n",
       "4             51  8/31/2015 23:22                    Embarcadero at Sansome   \n",
       "\n",
       "  End Terminal Bike # Subscriber Type Zip Code  \n",
       "0           70    288      Subscriber     2139  \n",
       "1           27     35      Subscriber    95032  \n",
       "2           64    468      Subscriber    94107  \n",
       "3            8     68      Subscriber    95113  \n",
       "4           60    487        Customer     9069  "
      ]
     },
     "execution_count": 14,
     "metadata": {},
     "output_type": "execute_result"
    }
   ],
   "source": [
    "Edges.describe()\n",
    "Edges.head()"
   ]
  },
  {
   "cell_type": "code",
   "execution_count": 15,
   "metadata": {},
   "outputs": [],
   "source": [
    "townand7thEdges = stationGraph.edges.where(\"src='Townsend at 7th' OR dst = 'Townsend at 7th'\")\n",
    "subgraph = GraphFrame(stationGraph.vertices, townand7thEdges)"
   ]
  },
  {
   "cell_type": "code",
   "execution_count": 16,
   "metadata": {},
   "outputs": [
    {
     "name": "stdout",
     "output_type": "stream",
     "text": [
      "+--------------------+------------------+\n",
      "|                  id|          pagerank|\n",
      "+--------------------+------------------+\n",
      "|San Jose Diridon ...| 4.051504835989958|\n",
      "|San Francisco Cal...| 3.351183296428705|\n",
      "|Mountain View Cal...|2.5143907710155586|\n",
      "|Redwood City Calt...|2.3263087713711696|\n",
      "|San Francisco Cal...| 2.231144291369857|\n",
      "|Harry Bridges Pla...|1.8251120118882906|\n",
      "|     2nd at Townsend|  1.58212177850392|\n",
      "|Santa Clara at Al...|1.5730074084907522|\n",
      "|     Townsend at 7th|1.5684565805340673|\n",
      "|Embarcadero at Sa...| 1.541424208774895|\n",
      "+--------------------+------------------+\n",
      "only showing top 10 rows\n",
      "\n"
     ]
    }
   ],
   "source": [
    "from pyspark.sql.functions import desc\n",
    "ranks = stationGraph.pageRank(resetProbability=0.15,maxIter =10)\n",
    "ranks.vertices\\\n",
    ".orderBy(desc(\"pagerank\"))\\\n",
    ".select(\"id\",\"pagerank\")\\\n",
    ".show(10)"
   ]
  },
  {
   "cell_type": "code",
   "execution_count": 17,
   "metadata": {},
   "outputs": [
    {
     "name": "stdout",
     "output_type": "stream",
     "text": [
      "+----------------------------------------+--------+\n",
      "|id                                      |inDegree|\n",
      "+----------------------------------------+--------+\n",
      "|San Francisco Caltrain (Townsend at 4th)|34810   |\n",
      "|San Francisco Caltrain 2 (330 Townsend) |22523   |\n",
      "|Harry Bridges Plaza (Ferry Building)    |17810   |\n",
      "|2nd at Townsend                         |15463   |\n",
      "|Townsend at 7th                         |15422   |\n",
      "+----------------------------------------+--------+\n",
      "only showing top 5 rows\n",
      "\n",
      "+---------------------------------------------+---------+\n",
      "|id                                           |outDegree|\n",
      "+---------------------------------------------+---------+\n",
      "|San Francisco Caltrain (Townsend at 4th)     |26304    |\n",
      "|San Francisco Caltrain 2 (330 Townsend)      |21758    |\n",
      "|Harry Bridges Plaza (Ferry Building)         |17255    |\n",
      "|Temporary Transbay Terminal (Howard at Beale)|14436    |\n",
      "|Embarcadero at Sansome                       |14158    |\n",
      "+---------------------------------------------+---------+\n",
      "only showing top 5 rows\n",
      "\n",
      "+---------------------------------------------+------+\n",
      "|id                                           |degree|\n",
      "+---------------------------------------------+------+\n",
      "|San Francisco Caltrain (Townsend at 4th)     |61114 |\n",
      "|San Francisco Caltrain 2 (330 Townsend)      |44281 |\n",
      "|Harry Bridges Plaza (Ferry Building)         |35065 |\n",
      "|2nd at Townsend                              |29489 |\n",
      "|Embarcadero at Sansome                       |29223 |\n",
      "|Townsend at 7th                              |29174 |\n",
      "|Temporary Transbay Terminal (Howard at Beale)|27402 |\n",
      "|Steuart at Market                            |27304 |\n",
      "|Market at Sansome                            |25347 |\n",
      "|Market at 10th                               |22105 |\n",
      "|Powell Street BART                           |19934 |\n",
      "|Market at 4th                                |19579 |\n",
      "|2nd at South Park                            |17722 |\n",
      "|5th at Howard                                |15855 |\n",
      "|Civic Center BART (7th at Market)            |15474 |\n",
      "|Broadway St at Battery St                    |14835 |\n",
      "|Embarcadero at Folsom                        |14825 |\n",
      "|Beale at Market                              |14689 |\n",
      "|Embarcadero at Bryant                        |14170 |\n",
      "|Howard at 2nd                                |13935 |\n",
      "+---------------------------------------------+------+\n",
      "only showing top 20 rows\n",
      "\n"
     ]
    }
   ],
   "source": [
    "# In and Out degrees\n",
    "inDeg = stationGraph.inDegrees\n",
    "inDeg.orderBy(desc(\"indegree\")).show(5,False)\n",
    "outDeg = stationGraph.outDegrees\n",
    "outDeg.orderBy(desc(\"outdegree\")).show(5, False)\n",
    "Degrees = stationGraph.degrees\n",
    "Degrees.orderBy(desc(\"degree\")).show(20, False)\n",
    "inDeg1=inDeg.toPandas()\n",
    "outDeg1=outDeg.toPandas()\n",
    "Degrees1 = Degrees.toPandas()\n"
   ]
  },
  {
   "cell_type": "code",
   "execution_count": 18,
   "metadata": {},
   "outputs": [
    {
     "data": {
      "text/html": [
       "<div>\n",
       "<style scoped>\n",
       "    .dataframe tbody tr th:only-of-type {\n",
       "        vertical-align: middle;\n",
       "    }\n",
       "\n",
       "    .dataframe tbody tr th {\n",
       "        vertical-align: top;\n",
       "    }\n",
       "\n",
       "    .dataframe thead th {\n",
       "        text-align: right;\n",
       "    }\n",
       "</style>\n",
       "<table border=\"1\" class=\"dataframe\">\n",
       "  <thead>\n",
       "    <tr style=\"text-align: right;\">\n",
       "      <th></th>\n",
       "      <th>id</th>\n",
       "      <th>inDegree</th>\n",
       "      <th>outDegree</th>\n",
       "      <th>degree</th>\n",
       "      <th>in%</th>\n",
       "      <th>out%</th>\n",
       "    </tr>\n",
       "  </thead>\n",
       "  <tbody>\n",
       "    <tr>\n",
       "      <th>0</th>\n",
       "      <td>2nd at Folsom</td>\n",
       "      <td>4727</td>\n",
       "      <td>7999</td>\n",
       "      <td>12726</td>\n",
       "      <td>0.371444</td>\n",
       "      <td>0.628556</td>\n",
       "    </tr>\n",
       "    <tr>\n",
       "      <th>1</th>\n",
       "      <td>California Ave Caltrain Station</td>\n",
       "      <td>496</td>\n",
       "      <td>400</td>\n",
       "      <td>896</td>\n",
       "      <td>0.553571</td>\n",
       "      <td>0.446429</td>\n",
       "    </tr>\n",
       "    <tr>\n",
       "      <th>2</th>\n",
       "      <td>Powell at Post (Union Square)</td>\n",
       "      <td>4134</td>\n",
       "      <td>6425</td>\n",
       "      <td>10559</td>\n",
       "      <td>0.391514</td>\n",
       "      <td>0.608486</td>\n",
       "    </tr>\n",
       "    <tr>\n",
       "      <th>3</th>\n",
       "      <td>Golden Gate at Polk</td>\n",
       "      <td>2852</td>\n",
       "      <td>3646</td>\n",
       "      <td>6498</td>\n",
       "      <td>0.438904</td>\n",
       "      <td>0.561096</td>\n",
       "    </tr>\n",
       "    <tr>\n",
       "      <th>4</th>\n",
       "      <td>Yerba Buena Center of the Arts (3rd @ Howard)</td>\n",
       "      <td>6288</td>\n",
       "      <td>5523</td>\n",
       "      <td>11811</td>\n",
       "      <td>0.532385</td>\n",
       "      <td>0.467615</td>\n",
       "    </tr>\n",
       "  </tbody>\n",
       "</table>\n",
       "</div>"
      ],
      "text/plain": [
       "                                              id  inDegree  outDegree  degree  \\\n",
       "0                                  2nd at Folsom      4727       7999   12726   \n",
       "1                California Ave Caltrain Station       496        400     896   \n",
       "2                  Powell at Post (Union Square)      4134       6425   10559   \n",
       "3                            Golden Gate at Polk      2852       3646    6498   \n",
       "4  Yerba Buena Center of the Arts (3rd @ Howard)      6288       5523   11811   \n",
       "\n",
       "        in%      out%  \n",
       "0  0.371444  0.628556  \n",
       "1  0.553571  0.446429  \n",
       "2  0.391514  0.608486  \n",
       "3  0.438904  0.561096  \n",
       "4  0.532385  0.467615  "
      ]
     },
     "execution_count": 18,
     "metadata": {},
     "output_type": "execute_result"
    }
   ],
   "source": [
    "import pandas as pd\n",
    "Degreesum = inDeg1.join(outDeg1.set_index(\"id\"), on='id').join(Degrees1.set_index(\"id\"),on='id')\n",
    "Degreesum[\"in%\"]=Degreesum[\"inDegree\"]/Degreesum[\"degree\"]\n",
    "Degreesum[\"out%\"]=Degreesum[\"outDegree\"]/Degreesum[\"degree\"]\n",
    "Degreesum.plot()\n",
    "Degreesum.head()"
   ]
  },
  {
   "cell_type": "code",
   "execution_count": 19,
   "metadata": {},
   "outputs": [
    {
     "name": "stdout",
     "output_type": "stream",
     "text": [
      "+----------------------------------------+------------------+-------------------+------------------+\n",
      "|id                                      |InRatio           |outRatio           |InOutdegreeRatio  |\n",
      "+----------------------------------------+------------------+-------------------+------------------+\n",
      "|Redwood City Medical Center             |0.6052631578947368|0.39473684210526316|1.5333333333333334|\n",
      "|San Mateo County Center                 |0.5955414012738853|0.40445859872611467|1.4724409448818898|\n",
      "|SJSU 4th at San Carlos                  |0.5766488413547237|0.4233511586452763 |1.3621052631578947|\n",
      "|San Francisco Caltrain (Townsend at 4th)|0.5695912556860948|0.43040874431390513|1.3233728710462287|\n",
      "|Washington at Kearny                    |0.5668457905878521|0.4331542094121479 |1.3086466165413533|\n",
      "|Paseo de San Antonio                    |0.5562467599792639|0.44375324002073613|1.2535046728971964|\n",
      "|California Ave Caltrain Station         |0.5535714285714286|0.44642857142857145|1.24              |\n",
      "|Franklin at Maple                       |0.5524861878453039|0.44751381215469616|1.2345679012345678|\n",
      "|Embarcadero at Vallejo                  |0.5495841902888312|0.45041580971116874|1.2201707365495336|\n",
      "|Market at Sansome                       |0.5490196078431373|0.45098039215686275|1.2173913043478262|\n",
      "+----------------------------------------+------------------+-------------------+------------------+\n",
      "only showing top 10 rows\n",
      "\n",
      "+-------------------------------+-------------------+------------------+------------------+\n",
      "|id                             |InRatio            |outRatio          |InOutdegreeRatio  |\n",
      "+-------------------------------+-------------------+------------------+------------------+\n",
      "|Grant Avenue at Columbus Avenue|0.34126106194690264|0.6587389380530974|0.5180520570948782|\n",
      "|2nd at Folsom                  |0.3714442872858714 |0.6285557127141286|0.5909488686085761|\n",
      "|Powell at Post (Union Square)  |0.3915143479496164 |0.6084856520503835|0.6434241245136186|\n",
      "|Mezes Park                     |0.4061624649859944 |0.5938375350140056|0.6839622641509434|\n",
      "|Evelyn Park and Ride           |0.42571931884908987|0.5742806811509101|0.7413087934560327|\n",
      "|Beale at Market                |0.43093471305058206|0.5690652869494179|0.75726761574351  |\n",
      "|Golden Gate at Polk            |0.43890427823945827|0.5610957217605417|0.7822270981897971|\n",
      "|Ryland Park                    |0.44               |0.56              |0.7857142857142857|\n",
      "|San Francisco City Hall        |0.44223973905952707|0.5577602609404729|0.7928849902534113|\n",
      "|Palo Alto Caltrain Station     |0.44642857142857145|0.5535714285714286|0.8064516129032258|\n",
      "+-------------------------------+-------------------+------------------+------------------+\n",
      "only showing top 10 rows\n",
      "\n"
     ]
    }
   ],
   "source": [
    "from pyspark.sql.functions import desc\n",
    "degreeRatio = inDeg.join(outDeg,\"id\").join(Degrees,\"id\")\\\n",
    ".selectExpr(\"id\",\"double(inDegree)/double(Degree) as InRatio\",\"double(outDegree)/double(Degree) as outRatio\",\"double(inDegree)/double(outDegree) as InOutdegreeRatio\")\n",
    "\n",
    "\n",
    "degreeRatio\\\n",
    ".orderBy(desc(\"InOutdegreeRatio\")).show(10, False)\n",
    "degreeRatio\\\n",
    ".orderBy(\"InOutdegreeRatio\").show(10, False)\n"
   ]
  },
  {
   "cell_type": "code",
   "execution_count": 20,
   "metadata": {},
   "outputs": [
    {
     "name": "stdout",
     "output_type": "stream",
     "text": [
      "+--------------------+--------------------+--------------------+\n",
      "|                from|                  e0|                  to|\n",
      "+--------------------+--------------------+--------------------+\n",
      "|[65, Townsend at ...|[913371, 663, 8/3...|[49, Spear at Fol...|\n",
      "|[65, Townsend at ...|[913265, 658, 8/3...|[49, Spear at Fol...|\n",
      "|[65, Townsend at ...|[911919, 722, 8/3...|[49, Spear at Fol...|\n",
      "|[65, Townsend at ...|[910777, 704, 8/2...|[49, Spear at Fol...|\n",
      "|[65, Townsend at ...|[908994, 1115, 8/...|[49, Spear at Fol...|\n",
      "|[65, Townsend at ...|[906912, 892, 8/2...|[49, Spear at Fol...|\n",
      "|[65, Townsend at ...|[905201, 980, 8/2...|[49, Spear at Fol...|\n",
      "|[65, Townsend at ...|[904010, 969, 8/2...|[49, Spear at Fol...|\n",
      "|[65, Townsend at ...|[903375, 850, 8/2...|[49, Spear at Fol...|\n",
      "|[65, Townsend at ...|[899944, 910, 8/2...|[49, Spear at Fol...|\n",
      "+--------------------+--------------------+--------------------+\n",
      "only showing top 10 rows\n",
      "\n"
     ]
    }
   ],
   "source": [
    "# Breadth First Search\n",
    "bfsResult = stationGraph.bfs(fromExpr=\"id='Townsend at 7th'\", toExpr=\"id ='Spear at Folsom'\",maxPathLength=2)\n",
    "bfsResult.show(10)"
   ]
  },
  {
   "cell_type": "code",
   "execution_count": 21,
   "metadata": {},
   "outputs": [],
   "source": [
    "#Connected Components\n",
    "spark.sparkContext.setCheckpointDir(\"tmp/checkpoints\")"
   ]
  },
  {
   "cell_type": "code",
   "execution_count": 22,
   "metadata": {},
   "outputs": [],
   "source": [
    "minGraph = GraphFrame(stationVertices, tripEdges.sample(False, 0.2))\n",
    "cc = minGraph.connectedComponents()"
   ]
  },
  {
   "cell_type": "code",
   "execution_count": 104,
   "metadata": {},
   "outputs": [
    {
     "name": "stdout",
     "output_type": "stream",
     "text": [
      "+----------+--------------------+---------+-----------+---------+-------------+------------+------------+\n",
      "|station_id|                  id|      lat|       long|dockcount|     landmark|installation|   component|\n",
      "+----------+--------------------+---------+-----------+---------+-------------+------------+------------+\n",
      "|        47|     Post at Kearney|37.788975|-122.403452|       19|San Francisco|   8/19/2013|317827579904|\n",
      "|        46|Washington at Kea...|37.795425|-122.404767|       15|San Francisco|   8/19/2013| 17179869184|\n",
      "+----------+--------------------+---------+-----------+---------+-------------+------------+------------+\n",
      "\n"
     ]
    }
   ],
   "source": [
    "cc.where(\"component != 0\").show()"
   ]
  },
  {
   "cell_type": "code",
   "execution_count": 106,
   "metadata": {},
   "outputs": [],
   "source": [
    "scc = minGraph.stronglyConnectedComponents(maxIter=3)"
   ]
  },
  {
   "cell_type": "code",
   "execution_count": 131,
   "metadata": {},
   "outputs": [
    {
     "name": "stdout",
     "output_type": "stream",
     "text": [
      "+----------+---------------------------------+---------+-----------+---------+-------------+------------+------------+\n",
      "|station_id|id                               |lat      |long       |dockcount|landmark     |installation|component   |\n",
      "+----------+---------------------------------+---------+-----------+---------+-------------+------------+------------+\n",
      "|47        |Post at Kearney                  |37.788975|-122.403452|19       |San Francisco|8/19/2013   |317827579904|\n",
      "|6         |San Pedro Square                 |37.336721|-121.894074|15       |San Jose     |8/7/2013    |128849018880|\n",
      "|8         |San Salvador at 1st              |37.330165|-121.885831|15       |San Jose     |8/5/2013    |128849018880|\n",
      "|7         |Paseo de San Antonio             |37.333798|-121.886943|15       |San Jose     |8/7/2013    |128849018880|\n",
      "|13        |St James Park                    |37.339301|-121.889937|15       |San Jose     |8/6/2013    |128849018880|\n",
      "|16        |SJSU - San Salvador at 9th       |37.333955|-121.877349|15       |San Jose     |8/7/2013    |128849018880|\n",
      "|9         |Japantown                        |37.348742|-121.894715|15       |San Jose     |8/5/2013    |128849018880|\n",
      "|2         |San Jose Diridon Caltrain Station|37.329732|-121.901782|27       |San Jose     |8/6/2013    |128849018880|\n",
      "|11        |MLK Library                      |37.335885|-121.88566 |19       |San Jose     |8/6/2013    |128849018880|\n",
      "|5         |Adobe on Almaden                 |37.331415|-121.8932  |19       |San Jose     |8/5/2013    |128849018880|\n",
      "+----------+---------------------------------+---------+-----------+---------+-------------+------------+------------+\n",
      "only showing top 10 rows\n",
      "\n"
     ]
    }
   ],
   "source": [
    "scc.orderBy(desc(\"component\")).show(10, False)"
   ]
  },
  {
   "cell_type": "code",
   "execution_count": 23,
   "metadata": {},
   "outputs": [],
   "source": [
    "# Motif Finding\n",
    "motifs = stationGraph.find(\"(a)-[ab]->(b);(b)-[bc]->(c); (c)-[ca]->(a)\")"
   ]
  },
  {
   "cell_type": "code",
   "execution_count": 34,
   "metadata": {},
   "outputs": [
    {
     "data": {
      "text/plain": [
       "Column<b'ab[Start Date]'>"
      ]
     },
     "execution_count": 34,
     "metadata": {},
     "output_type": "execute_result"
    }
   ],
   "source": [
    "motifs.ab[\"Start Date\"]"
   ]
  },
  {
   "cell_type": "code",
   "execution_count": 41,
   "metadata": {},
   "outputs": [],
   "source": [
    "#query motifs as a Dataframe\n",
    "from pyspark.sql.functions import expr, to_timestamp\n",
    "\n",
    "cyclepattern = motifs\\\n",
    ".selectExpr('*', \n",
    "\"\"\"to_timestamp(ab['Start Date'], 'MM/dd/yyyy HH:mm') as abStart\"\"\",\n",
    "\"\"\"to_timestamp(bc['Start Date'], 'MM/dd/yyyy HH:mm') as bcStart\"\"\",\n",
    "\"\"\"to_timestamp(ca['Start Date'], 'MM/dd/yyyy HH:mm') as caStart\"\"\")\\\n",
    ".where (\"ca['Bike #']=bc['Bike #']\")\\\n",
    ".where (\"ab['Bike #']=bc['Bike #']\")\\\n",
    ".where (\"a.id != b.id\")\\\n",
    ".where (\"b.id != c.id\")\\\n",
    ".where (\"abStart < bcStart\")\\\n",
    ".where (\"bcStart < caStart\")\\\n",
    ".orderBy(expr(\"cast(caStart as long)- cast(abStart as long)\"))\\\n",
    ".selectExpr(\"a.id\", \"b.id\", \"c.id\",\"ab['Start Date']\",\"ca['End Date']\")\n",
    "\n"
   ]
  },
  {
   "cell_type": "code",
   "execution_count": 42,
   "metadata": {},
   "outputs": [
    {
     "name": "stdout",
     "output_type": "stream",
     "text": [
      "+----------------------------------------+----------------------------------------+----------------------------------------+---------------+---------------+\n",
      "|id                                      |id                                      |id                                      |ab.Start Date  |ca.End Date    |\n",
      "+----------------------------------------+----------------------------------------+----------------------------------------+---------------+---------------+\n",
      "|San Francisco Caltrain 2 (330 Townsend) |Townsend at 7th                         |San Francisco Caltrain (Townsend at 4th)|5/19/2015 16:09|5/19/2015 16:33|\n",
      "|Harry Bridges Plaza (Ferry Building)    |2nd at Townsend                         |San Francisco Caltrain (Townsend at 4th)|6/16/2015 8:03 |6/16/2015 8:31 |\n",
      "|San Francisco Caltrain (Townsend at 4th)|2nd at Townsend                         |Steuart at Market                       |10/8/2014 17:12|10/8/2014 17:42|\n",
      "|2nd at Townsend                         |San Francisco Caltrain (Townsend at 4th)|Harry Bridges Plaza (Ferry Building)    |7/20/2015 8:51 |7/20/2015 9:14 |\n",
      "|Market at Sansome                       |2nd at South Park                       |San Francisco Caltrain (Townsend at 4th)|11/3/2014 8:38 |11/3/2014 9:01 |\n",
      "+----------------------------------------+----------------------------------------+----------------------------------------+---------------+---------------+\n",
      "only showing top 5 rows\n",
      "\n"
     ]
    }
   ],
   "source": [
    "cyclepattern.show(5, False)"
   ]
  },
  {
   "cell_type": "code",
   "execution_count": null,
   "metadata": {},
   "outputs": [],
   "source": []
  }
 ],
 "metadata": {
  "kernelspec": {
   "display_name": "Python 3",
   "language": "python",
   "name": "python3"
  },
  "language_info": {
   "codemirror_mode": {
    "name": "ipython",
    "version": 3
   },
   "file_extension": ".py",
   "mimetype": "text/x-python",
   "name": "python",
   "nbconvert_exporter": "python",
   "pygments_lexer": "ipython3",
   "version": "3.7.3"
  }
 },
 "nbformat": 4,
 "nbformat_minor": 2
}
